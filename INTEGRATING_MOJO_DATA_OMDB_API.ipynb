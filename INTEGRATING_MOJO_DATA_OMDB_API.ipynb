{
 "cells": [
  {
   "cell_type": "code",
   "execution_count": 3,
   "id": "34658066-3876-4246-8a10-1024ffb75361",
   "metadata": {},
   "outputs": [],
   "source": [
    "import pandas as pd"
   ]
  },
  {
   "cell_type": "code",
   "execution_count": 5,
   "id": "f1aac9dd-669b-48ac-b77e-570754af0687",
   "metadata": {},
   "outputs": [],
   "source": [
    "df = pd.read_csv('MOJO_ALL.csv')"
   ]
  },
  {
   "cell_type": "code",
   "execution_count": null,
   "id": "47428bfb-fc05-48e2-8883-7dbcf64ff236",
   "metadata": {},
   "outputs": [],
   "source": [
    "df.head(20)"
   ]
  },
  {
   "cell_type": "code",
   "execution_count": null,
   "id": "b83eb765-db06-4e9d-8464-db5b0ffd6cc7",
   "metadata": {
    "scrolled": true
   },
   "outputs": [],
   "source": [
    "df[\"#1 Release\"].unique()"
   ]
  },
  {
   "cell_type": "code",
   "execution_count": null,
   "id": "4ac90eee-27b9-4983-9a90-6ba4e3dda242",
   "metadata": {},
   "outputs": [],
   "source": [
    "df[\"Country\"].unique()"
   ]
  },
  {
   "cell_type": "code",
   "execution_count": null,
   "id": "19d32619-cee2-48ed-aae8-b08e35d74d72",
   "metadata": {},
   "outputs": [],
   "source": [
    "from imdb import IMDb\n",
    "import pandas as pd\n",
    "import time\n",
    "\n",
    "# Load your dataset (update filename if it's .csv instead of .xlsx)\n",
    "df = pd.read_csv('MOJO_ALL.csv')  # or use pd.read_csv('your_file.csv')\n",
    "\n",
    "# Ensure there's a 'Genre' column\n",
    "if 'Genre' not in df.columns:\n",
    "    df['Genre'] = ''\n",
    "\n",
    "# Initialize IMDb API\n",
    "ia = IMDb()"
   ]
  },
  {
   "cell_type": "code",
   "execution_count": null,
   "id": "9460165e-7a10-4356-8a8a-6277f5fdea10",
   "metadata": {},
   "outputs": [],
   "source": [
    "!pip install imdbpy"
   ]
  },
  {
   "cell_type": "code",
   "execution_count": null,
   "id": "870197a1-487b-4932-a632-de9dec36e93b",
   "metadata": {},
   "outputs": [],
   "source": [
    "# Get unique movie titles that need genre lookup\n",
    "unique_titles = df['#1 Release'].dropna().unique()\n",
    "\n",
    "# Create a dictionary to store title:genre\n",
    "genre_lookup = {}\n",
    "\n",
    "for title in unique_titles:\n",
    "    try:\n",
    "        results = ia.search_movie(title)\n",
    "        if results:\n",
    "            movie = results[0]\n",
    "            ia.update(movie)\n",
    "            genres = ', '.join(movie.get('genres', []))\n",
    "        else:\n",
    "            genres = \"Not found\"\n",
    "    except Exception as e:\n",
    "        genres = \"Not found\"\n",
    "    genre_lookup[title] = genres\n",
    "    print(f\"{title}: {genres}\")\n",
    "    time.sleep(0.5)  # Add delay to avoid rate limiting"
   ]
  },
  {
   "cell_type": "code",
   "execution_count": null,
   "id": "f016d25a-99eb-4a35-96aa-dd3215d015a8",
   "metadata": {},
   "outputs": [],
   "source": [
    "# Update genre in original dataframe\n",
    "df['Genre'] = df['#1 Release'].map(genre_lookup)\n",
    "\n",
    "# Save result to new file\n",
    "df.to_excel('updated_with_genres.', index=False)\n",
    "# or df.to_csv('updated_with_genres.csv', index=False)\n",
    "\n",
    "print(\"Genre update complete and file saved.\")"
   ]
  },
  {
   "cell_type": "code",
   "execution_count": 7,
   "id": "2a1a40b2-6a9e-49d2-a0a0-7518bed39739",
   "metadata": {},
   "outputs": [
    {
     "name": "stdout",
     "output_type": "stream",
     "text": [
      "Requirement already satisfied: pandas in c:\\users\\nikshita chiliveri\\anaconda3\\lib\\site-packages (2.2.2)\n",
      "Requirement already satisfied: openpyxl in c:\\users\\nikshita chiliveri\\anaconda3\\lib\\site-packages (3.1.2)\n",
      "Requirement already satisfied: numpy>=1.26.0 in c:\\users\\nikshita chiliveri\\anaconda3\\lib\\site-packages (from pandas) (1.26.4)\n",
      "Requirement already satisfied: python-dateutil>=2.8.2 in c:\\users\\nikshita chiliveri\\anaconda3\\lib\\site-packages (from pandas) (2.9.0.post0)\n",
      "Requirement already satisfied: pytz>=2020.1 in c:\\users\\nikshita chiliveri\\anaconda3\\lib\\site-packages (from pandas) (2024.1)\n",
      "Requirement already satisfied: tzdata>=2022.7 in c:\\users\\nikshita chiliveri\\anaconda3\\lib\\site-packages (from pandas) (2023.3)\n",
      "Requirement already satisfied: et-xmlfile in c:\\users\\nikshita chiliveri\\anaconda3\\lib\\site-packages (from openpyxl) (1.1.0)\n",
      "Requirement already satisfied: six>=1.5 in c:\\users\\nikshita chiliveri\\anaconda3\\lib\\site-packages (from python-dateutil>=2.8.2->pandas) (1.16.0)\n"
     ]
    }
   ],
   "source": [
    "!pip install pandas openpyxl"
   ]
  },
  {
   "cell_type": "code",
   "execution_count": null,
   "id": "5771f3c7-67cf-42ee-b037-5438a90a0493",
   "metadata": {},
   "outputs": [],
   "source": [
    "import requests\n",
    "import time\n",
    "\n",
    "# Replace with your real OMDb API key\n",
    "API_KEY = '  '  "
   ]
  },
  {
   "cell_type": "code",
   "execution_count": 11,
   "id": "b8e4e271-5593-4c63-bbca-6279559a6484",
   "metadata": {},
   "outputs": [
    {
     "name": "stdout",
     "output_type": "stream",
     "text": [
      "-: Not found\n",
      "10 Lives: Animation, Comedy, Family\n",
      "1st Kiss: Romance\n",
      "404 Run Run: Comedy, Horror\n",
      "A Complete Unknown: Biography, Drama, Music\n",
      "A Minecraft Movie: Action, Adventure, Comedy\n",
      "A Working Man: Action, Thriller\n",
      "Am Duong Lo: N/A\n",
      "Anora: Comedy, Drama, Romance\n",
      "Ask Sadece Bir An: Romance\n",
      "Babygirl: Drama, Romance, Thriller\n",
      "Black Bag: Drama, Mystery, Romance\n",
      "Bridget Jones: Mad About the Boy: Comedy, Drama, Romance\n",
      "Buzz House: The Movie 2: Comedy, Horror\n",
      "Captain America: Brave New World: Action, Adventure, Sci-Fi\n",
      "Cells at Work!: Animation, Action, Adventure\n",
      "Cernak: Crime\n",
      "Companion: Sci-Fi, Thriller\n",
      "Conclave: Drama, Thriller\n",
      "Dark Nuns: Horror, Mystery, Thriller\n",
      "Dayi: Bir Adamin Hikayesi 2: Action, Adventure, Drama\n",
      "Demon Slayer: Kimetsu no Yaiba - Tsuzumi Mansion Arc: Animation, Action, Fantasy\n",
      "Den of Thieves: Pantera: Action, Crime, Drama\n",
      "Detective Conan: One-eyed Flashback: Not found\n",
      "Detective Kien: The Headless Horror: Drama, Horror, Mystery\n",
      "Deva: Action, Crime, Drama\n",
      "Dog Man: Animation, Action, Adventure\n",
      "Doraemon: Nobita's Art World Tales: Animation, Adventure, Comedy\n",
      "Drop: Drama, Mystery, Thriller\n",
      "Face Off 8: Embrace of Light: N/A\n",
      "Final Destination: Bloodlines: Horror\n",
      "Flight Risk: Action, Crime, Drama\n",
      "God Save the Tuche: Comedy\n",
      "Graduation Heist: Not found\n",
      "Grand Maison Paris: Drama\n",
      "Harbin: Action, Crime, History\n",
      "Hitman 2: Not found\n",
      "I'm Still Here: Biography, Drama, History\n",
      "In the Lost Lands: Action, Adventure, Fantasy\n",
      "Jak se nám to mohlo stát!?: N/A\n",
      "Kleks i wynalazek Filipa Golarza: Fantasy\n",
      "L2: Empuraan: Action, Crime, Thriller\n",
      "Lilo & Stitch: Animation, Adventure, Comedy\n",
      "Longlegs: Crime, Horror, Thriller\n",
      "Love Hurts: Action, Comedy, Romance\n",
      "Ma mère, Dieu et Sylvie Vartan: Drama\n",
      "Magazine Dreams: Drama\n",
      "Maria: Biography, Drama, Music\n",
      "Mentorii: Comedy\n",
      "Mickey 17: Adventure, Comedy, Fantasy\n",
      "Mission: Impossible - The Final Reckoning: Action, Adventure, Thriller\n",
      "Moana 2: Animation, Adventure, Comedy\n",
      "Mobile Suit Gundam GQuuuuuuX: Beginning: Animation, Action, Adventure\n",
      "Money Kisses: N/A\n",
      "More na dvore: Comedy\n",
      "Mufasa: The Lion King: Animation, Adventure, Drama\n",
      "Na plech: Comedy, Crime\n",
      "Nha Gia Tien: Comedy, Family, Horror\n",
      "Nosferatu: Fantasy, Horror, Mystery\n",
      "Officer on Duty: Thriller\n",
      "Paddington in Peru: Animation, Adventure, Comedy\n",
      "Rafadan Tayfa: Kapadokya: Animation\n",
      "Rekhachithram: Drama, Mystery, Thriller\n",
      "Rose's War: Thriller\n",
      "Screw Mickiewicz: Not found\n",
      "Sinners: Action, Drama, Horror\n",
      "Sirenele: Secretul Medalionului: Adventure, Fantasy\n",
      "Smart Rabbit Momo: The Big Chase: Animation\n",
      "Snow White: Adventure, Family, Fantasy\n",
      "Sonic the Hedgehog 3: Action, Adventure, Comedy\n",
      "Star Wars: Episode III - Revenge of the Sith\n",
      "20th anniversary: Not found\n",
      "Tandari: Comedy\n",
      "The 4 Rascals: Comedy, Family, Romance\n",
      "The Accountant 2: Action, Crime, Drama\n",
      "The Amateur: Action, Thriller\n",
      "The Brutalist: Drama\n",
      "The Corpse: Horror\n",
      "The Last Bus: Drama\n",
      "The Match: Comedy, Romance, Sport\n",
      "The Monkey: Horror\n",
      "The Phoenician Scheme: Action, Comedy, Crime\n",
      "The Woman in the Yard: Drama, Horror, Thriller\n",
      "Thudarum: Drama\n",
      "Thunderbolts*: Action, Adventure, Crime\n",
      "Trillion Game: Drama\n",
      "Tunnel: Drama, Thriller\n",
      "V dobrém i zlém: Not found\n",
      "VidaaMuyarchi: Action, Thriller\n",
      "Vysehrad Dvje: Comedy\n",
      "Wicked: Fantasy, Musical, Romance\n",
      "Wolf Man: Horror\n",
      "Wolfgang (extraordinari): Drama, Family\n",
      "Yadang: The Snitch: Action, Crime, Drama\n"
     ]
    }
   ],
   "source": [
    "# Add Genre column if it doesn't exist\n",
    "if 'Genre' not in df.columns:\n",
    "    df['Genre'] = ''\n",
    "\n",
    "# Get unique movie titles\n",
    "titles = df['#1 Release'].dropna().unique()\n",
    "\n",
    "# Dictionary to store fetched genres\n",
    "genre_lookup = {}\n",
    "\n",
    "# Function to fetch genre using OMDb\n",
    "def get_genre(title):\n",
    "    try:\n",
    "        url = f\"http://www.omdbapi.com/?t={title}&apikey={API_KEY}\"\n",
    "        response = requests.get(url)\n",
    "        data = response.json()\n",
    "        return data.get('Genre', 'Not found')\n",
    "    except Exception as e:\n",
    "        return 'Not found'\n",
    "\n",
    "# Fetch genres\n",
    "for title in titles:\n",
    "    title_clean = str(title).strip()\n",
    "    genre = get_genre(title_clean)\n",
    "    genre_lookup[title_clean] = genre\n",
    "    print(f\"{title_clean}: {genre}\")\n",
    "    time.sleep(0.5)  # Avoid overloading API"
   ]
  },
  {
   "cell_type": "code",
   "execution_count": 13,
   "id": "0499a53c-e8c8-4de0-8b56-d1699423a460",
   "metadata": {},
   "outputs": [
    {
     "name": "stdout",
     "output_type": "stream",
     "text": [
      "✅ Genres updated and saved as 'INTEGRATED-BOX-OFFICE-OMDB-DATASET.csv'\n"
     ]
    }
   ],
   "source": [
    "# Map back to the main dataframe\n",
    "df['Genre'] = df['#1 Release'].map(lambda x: genre_lookup.get(str(x).strip(), 'Not found'))\n",
    "\n",
    "# Save the updated file\n",
    "df.to_excel(\"INTEGRATED-BOX-OFFICE-OMDB-DATASET.csv", index=False)\n",
    "print(\"✅ Genres updated and saved as 'updated_with_genres.xlsx'\")"
   ]
  },
  {
   "cell_type": "code",
   "execution_count": null,
   "id": "d51513d9-0940-4433-aea0-c85f7ffa1ec4",
   "metadata": {},
   "outputs": [],
   "source": []
  }
 ],
 "metadata": {
  "kernelspec": {
   "display_name": "Python 3 (ipykernel)",
   "language": "python",
   "name": "python3"
  },
  "language_info": {
   "codemirror_mode": {
    "name": "ipython",
    "version": 3
   },
   "file_extension": ".py",
   "mimetype": "text/x-python",
   "name": "python",
   "nbconvert_exporter": "python",
   "pygments_lexer": "ipython3",
   "version": "3.12.4"
  }
 },
 "nbformat": 4,
 "nbformat_minor": 5
}
